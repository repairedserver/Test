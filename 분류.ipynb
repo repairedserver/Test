{
  "cells": [
    {
      "cell_type": "markdown",
      "metadata": {
        "id": "view-in-github",
        "colab_type": "text"
      },
      "source": [
        "<a href=\"https://colab.research.google.com/github/repairedserver/Test/blob/master/%EB%B6%84%EB%A5%98.ipynb\" target=\"_parent\"><img src=\"https://colab.research.google.com/assets/colab-badge.svg\" alt=\"Open In Colab\"/></a>"
      ]
    },
    {
      "cell_type": "code",
      "execution_count": null,
      "metadata": {
        "colab": {
          "base_uri": "https://localhost:8080/"
        },
        "id": "fOXi55QAfrSx",
        "outputId": "825834f9-9ea7-4218-d75f-53506598e15d"
      },
      "outputs": [
        {
          "name": "stdout",
          "output_type": "stream",
          "text": [
            "Reading package lists... Done\n",
            "Building dependency tree       \n",
            "Reading state information... Done\n",
            "fonts-nanum is already the newest version (20170925-1).\n",
            "The following package was automatically installed and is no longer required:\n",
            "  libnvidia-common-460\n",
            "Use 'apt autoremove' to remove it.\n",
            "0 upgraded, 0 newly installed, 0 to remove and 45 not upgraded.\n"
          ]
        }
      ],
      "source": [
        "!apt install fonts-nanum -y\n",
        "\n",
        "import matplotlib\n",
        "import matplotlib.pyplot as plt\n",
        "import matplotlib.font_manager as fm\n",
        "\n",
        "fontpath = '/usr/share/fonts/truetype/nanum/NanumBarunGothic.ttf'\n",
        "font = fm.FontProperties(fname=fontpath, size=10)\n",
        "plt.rc('font', family='NanumBarunGothic')\n",
        "matplotlib.font_manager._rebuild()"
      ]
    },
    {
      "cell_type": "code",
      "execution_count": null,
      "metadata": {
        "colab": {
          "base_uri": "https://localhost:8080/"
        },
        "id": "PsWJwGDtgXNq",
        "outputId": "fb7182f4-4e1f-49b3-bd50-1b92039c3296"
      },
      "outputs": [
        {
          "name": "stdout",
          "output_type": "stream",
          "text": [
            "Cloning into 'bing_image_downloader'...\n",
            "remote: Enumerating objects: 86, done.\u001b[K\n",
            "remote: Counting objects: 100% (22/22), done.\u001b[K\n",
            "remote: Compressing objects: 100% (12/12), done.\u001b[K\n",
            "remote: Total 86 (delta 17), reused 10 (delta 10), pack-reused 64\u001b[K\n",
            "Unpacking objects: 100% (86/86), done.\n"
          ]
        }
      ],
      "source": [
        "!git clone https://github.com/ndb796/bing_image_downloader"
      ]
    },
    {
      "cell_type": "code",
      "execution_count": null,
      "metadata": {
        "id": "J4GoGbV8gpCF"
      },
      "outputs": [],
      "source": [
        "import os\n",
        "import shutil\n",
        "from bing_image_downloader.bing_image_downloader import downloader\n",
        "\n",
        "directory_list = [\n",
        "    './custom_dataset/train/',\n",
        "    './custom_dataset/test/',\n",
        "]\n",
        "# 초기 디렉토리 만들기\n",
        "for directory in directory_list:\n",
        "    if not os.path.isdir(directory):\n",
        "        os.makedirs(directory)\n",
        "\n",
        "# 수집한 이미지를 학습 데이터와 평가 데이터로 구분하는 함수\n",
        "def dataset_split(query, train_cnt):\n",
        "  \n",
        "    # 학습 및 평가 데이터셋 디렉토리 만들기\n",
        "    for directory in directory_list:\n",
        "        if not os.path.isdir(directory + '/' + query):\n",
        "            os.makedirs(directory + '/' + query)\n",
        "\n",
        "    # 학습 및 평가 데이터셋 준비하기\n",
        "    cnt = 0\n",
        "    for file_name in os.listdir(query):\n",
        "        if cnt < train_cnt:\n",
        "            print(f'[Train Dataset] {file_name}')\n",
        "            shutil.move(query + '/' + file_name, './custom_dataset/train/' + query + '/' + file_name)\n",
        "        else:\n",
        "            print(f'[Test Dataset] {file_name}')\n",
        "            shutil.move(query + '/' + file_name, './custom_dataset/test/' + query + '/' + file_name)\n",
        "        cnt += 1\n",
        "    shutil.rmtree(query)"
      ]
    },
    {
      "cell_type": "code",
      "execution_count": null,
      "metadata": {
        "colab": {
          "base_uri": "https://localhost:8080/"
        },
        "id": "XShR3ZyYksnm",
        "outputId": "454f4cbd-8a67-4e62-b3d2-8e0ef4a2b94a"
      },
      "outputs": [
        {
          "name": "stdout",
          "output_type": "stream",
          "text": [
            "[Info] Indexing page: 1\n",
            "[Info] Indexed 40 Images on Page 1.\n",
            "===============================================\n",
            "#1 이미지 다운로드 (https://newsimg.hankookilbo.com/cms/articlerelease/2019/12/19/201912191268771658_2.jpg)\n",
            "#1 파일 다운로드가 완료되었습니다.\n",
            "#2 이미지 다운로드 (https://img.asiatoday.co.kr/file/2016y/11m/26d/2016112601002558200176511.jpg)\n",
            "#2 파일 다운로드가 완료되었습니다.\n",
            "#3 이미지 다운로드 (https://newsimg.hankookilbo.com/cms/articlerelease/2019/12/19/201912191233015669_3.jpg)\n",
            "#3 파일 다운로드가 완료되었습니다.\n",
            "#4 이미지 다운로드 (https://img1.daumcdn.net/thumb/R800x0/?scode=mtistory2&amp;fname=https:%2F%2Ft1.daumcdn.net%2Fcfile%2Ftistory%2F99A0D6345BF177AB0A)\n",
            "[Info] Issue getting: https://img1.daumcdn.net/thumb/R800x0/?scode=mtistory2&amp;fname=https:%2F%2Ft1.daumcdn.net%2Fcfile%2Ftistory%2F99A0D6345BF177AB0A\n",
            "[Error] HTTP Error 403: Forbidden\n",
            "#4 이미지 다운로드 (http://img.etoday.co.kr/pto_db/2016/09/20160912044835_937908_600_900.jpg)\n",
            "#4 파일 다운로드가 완료되었습니다.\n",
            "#5 이미지 다운로드 (https://menu.mt.co.kr/moneyweek/thumb/2017/09/20/06/2017092011308028611_2.jpg)\n",
            "#5 파일 다운로드가 완료되었습니다.\n",
            "#6 이미지 다운로드 (https://i.pinimg.com/originals/1b/7d/bf/1b7dbfbc7d4bd9e9f8a2b3992d28af86.jpg)\n",
            "#6 파일 다운로드가 완료되었습니다.\n",
            "#7 이미지 다운로드 (http://talkimg.imbc.com/TVianUpload/tvian/TViews/image/2020/01/28/Qyk1WOpfVOsR637158086834867693.jpg)\n",
            "#7 파일 다운로드가 완료되었습니다.\n",
            "#8 이미지 다운로드 (https://www.nemopan.com/files/attach/images/6294/811/183/014/01da8075bce69f627f51b56f23160e23.jpg)\n",
            "#8 파일 다운로드가 완료되었습니다.\n",
            "#9 이미지 다운로드 (http://img.hankyung.com/photo/201707/03.13831615.1.jpg)\n",
            "#9 파일 다운로드가 완료되었습니다.\n",
            "#10 이미지 다운로드 (http://newsroom.etomato.com/userfiles/03-0432.jpg)\n",
            "#10 파일 다운로드가 완료되었습니다.\n",
            "#11 이미지 다운로드 (http://img.yonhapnews.co.kr/photo/yna/YH/2012/08/13/PYH2012081307070001300_P2.jpg)\n",
            "#11 파일 다운로드가 완료되었습니다.\n",
            "#12 이미지 다운로드 (http://img.hankyung.com/photo/201602/BF.11214995.1.jpg)\n",
            "#12 파일 다운로드가 완료되었습니다.\n",
            "#13 이미지 다운로드 (https://img.hankyung.com/photo/201911/BF.21014183.1.jpg)\n",
            "#13 파일 다운로드가 완료되었습니다.\n",
            "#14 이미지 다운로드 (https://newsimg.hankookilbo.com/cms/articlerelease/2018/06/26/201806261597030565_1.jpg)\n",
            "#14 파일 다운로드가 완료되었습니다.\n",
            "#15 이미지 다운로드 (http://image.newdaily.co.kr/site/data/img/2014/09/05/2014090500080_thumb.jpg)\n",
            "#15 파일 다운로드가 완료되었습니다.\n",
            "#16 이미지 다운로드 (https://file.mk.co.kr/meet/neds/2015/11/image_readtop_2015_1090336_14478055192220185.jpg)\n",
            "#16 파일 다운로드가 완료되었습니다.\n",
            "#17 이미지 다운로드 (http://img.hankyung.com/photo/201807/03.17090876.1.jpg)\n",
            "#17 파일 다운로드가 완료되었습니다.\n",
            "#18 이미지 다운로드 (http://cdnweb01.wikitree.co.kr/webdata/editor/201409/02/img_20140902090109_70f0dbc5.png)\n",
            "#18 파일 다운로드가 완료되었습니다.\n",
            "#19 이미지 다운로드 (https://file.mk.co.kr/meet/neds/2018/10/image_readtop_2018_638413_15394277573492369.jpg)\n",
            "#19 파일 다운로드가 완료되었습니다.\n",
            "#20 이미지 다운로드 (https://img1.daumcdn.net/thumb/R800x0/?scode=mtistory2&amp;fname=https:%2F%2Ft1.daumcdn.net%2Fcfile%2Ftistory%2F26120742543FF54037)\n",
            "[Info] Issue getting: https://img1.daumcdn.net/thumb/R800x0/?scode=mtistory2&amp;fname=https:%2F%2Ft1.daumcdn.net%2Fcfile%2Ftistory%2F26120742543FF54037\n",
            "[Error] HTTP Error 403: Forbidden\n",
            "#20 이미지 다운로드 (https://imgbntnews.hankyung.com/bntdata/images/photo/201307/b7601079f5d71e26a0d28c3fd3d63379.jpg)\n",
            "#20 파일 다운로드가 완료되었습니다.\n",
            "#21 이미지 다운로드 (https://img.hankyung.com/photo/201911/03.21013935.1.jpg)\n",
            "#21 파일 다운로드가 완료되었습니다.\n",
            "#22 이미지 다운로드 (https://newsimg.hankookilbo.com/cms/articlerelease/2016/01/25/201601251517155220_1.jpg)\n",
            "#22 파일 다운로드가 완료되었습니다.\n",
            "#23 이미지 다운로드 (https://image.chosun.com/sitedata/image/201801/04/2018010401407_0.jpg)\n",
            "#23 파일 다운로드가 완료되었습니다.\n",
            "#24 이미지 다운로드 (http://ojsfile.ohmynews.com/PHT_IMG_FILE/2015/1223/IE001906728_PHT.jpg)\n",
            "#24 파일 다운로드가 완료되었습니다.\n",
            "#25 이미지 다운로드 (http://newsroom.etomato.com/userfiles/151103 BHent0449 final.jpg)\n",
            "[Info] Issue getting: http://newsroom.etomato.com/userfiles/151103 BHent0449 final.jpg\n",
            "[Error] URL can't contain control characters. '/userfiles/151103 BHent0449 final.jpg' (found at least ' ')\n",
            "#25 이미지 다운로드 (http://img.etoday.co.kr/pto_db/2017/01/20170116113255_1005565_600_900.jpg)\n",
            "#25 파일 다운로드가 완료되었습니다.\n",
            "#26 이미지 다운로드 (https://img.sbs.co.kr/newsnet/etv/upload/2016/02/29/30000522898_700.jpg)\n",
            "#26 파일 다운로드가 완료되었습니다.\n",
            "#27 이미지 다운로드 (http://img.tf.co.kr/article/home/2014/09/11/201499721410425105.jpg)\n",
            "#27 파일 다운로드가 완료되었습니다.\n",
            "#28 이미지 다운로드 (https://newsimg.hankookilbo.com/cms/articlerelease/2015/01/05/201501051767406599_1.jpg?t=20210819115052)\n",
            "#28 파일 다운로드가 완료되었습니다.\n",
            "#29 이미지 다운로드 (https://t1.daumcdn.net/cfile/tistory/99C5234C5E31B68F06)\n",
            "[Error] Invalid image, not saving https://t1.daumcdn.net/cfile/tistory/99C5234C5E31B68F06\n",
            "[Info] Issue getting: https://t1.daumcdn.net/cfile/tistory/99C5234C5E31B68F06\n",
            "[Error] No active exception to reraise\n",
            "#29 이미지 다운로드 (https://img1.yna.co.kr/photo/yna/YH/2013/03/11/PYH2013031104220001300_P4.jpg)\n",
            "[Info] Issue getting: https://img1.yna.co.kr/photo/yna/YH/2013/03/11/PYH2013031104220001300_P4.jpg\n",
            "[Error] <urlopen error timed out>\n",
            "#29 이미지 다운로드 (http://img.tf.co.kr/article/home/2018/08/01/20185399153308164000.jpg)\n",
            "#29 파일 다운로드가 완료되었습니다.\n",
            "#30 이미지 다운로드 (https://www.gotit.co.kr/wp-content/uploads/2018/12/origin_황금촬영상이병헌연기대상…1987작품상·김윤석x최희서주연상종합-1024x1024.jpg)\n",
            "[Info] Issue getting: https://www.gotit.co.kr/wp-content/uploads/2018/12/origin_황금촬영상이병헌연기대상…1987작품상·김윤석x최희서주연상종합-1024x1024.jpg\n",
            "[Error] 'ascii' codec can't encode characters in position 39-51: ordinal not in range(128)\n",
            "#30 이미지 다운로드 (https://image.chosun.com/sitedata/image/201410/16/2014101601888_0.jpg)\n",
            "#30 파일 다운로드가 완료되었습니다.\n",
            "#31 이미지 다운로드 (https://image.chosun.com/sitedata/image/201710/08/2017100800468_0.jpg)\n",
            "#31 파일 다운로드가 완료되었습니다.\n",
            "#32 이미지 다운로드 (https://t1.daumcdn.net/cfile/tistory/992074395E31B68F2C)\n",
            "#32 파일 다운로드가 완료되었습니다.\n",
            "#33 이미지 다운로드 (https://img.upinews.kr/data/upi/image/2020/06/08/upi202006080089.jpg)\n",
            "#33 파일 다운로드가 완료되었습니다.\n",
            "#34 이미지 다운로드 (https://sccdn.chosun.com/news/html/2019/12/19/2019122001001436300091901.jpg)\n",
            "#34 파일 다운로드가 완료되었습니다.\n",
            "[Info] Done. Downloaded 34 images.\n",
            "[Info] Indexing page: 2\n",
            "[Info] Indexed 35 Images on Page 2.\n",
            "===============================================\n",
            "#35 이미지 다운로드 (https://newsimg.hankookilbo.com/cms/articlerelease/2019/12/19/201912191268771658_2.jpg)\n",
            "#35 파일 다운로드가 완료되었습니다.\n",
            "#36 이미지 다운로드 (https://img.asiatoday.co.kr/file/2016y/11m/26d/2016112601002558200176511.jpg)\n",
            "#36 파일 다운로드가 완료되었습니다.\n",
            "#37 이미지 다운로드 (https://newsimg.hankookilbo.com/cms/articlerelease/2019/12/19/201912191233015669_3.jpg)\n",
            "#37 파일 다운로드가 완료되었습니다.\n",
            "#38 이미지 다운로드 (https://img1.daumcdn.net/thumb/R800x0/?scode=mtistory2&amp;fname=https:%2F%2Ft1.daumcdn.net%2Fcfile%2Ftistory%2F99A0D6345BF177AB0A)\n",
            "[Info] Issue getting: https://img1.daumcdn.net/thumb/R800x0/?scode=mtistory2&amp;fname=https:%2F%2Ft1.daumcdn.net%2Fcfile%2Ftistory%2F99A0D6345BF177AB0A\n",
            "[Error] HTTP Error 403: Forbidden\n",
            "#38 이미지 다운로드 (http://img.etoday.co.kr/pto_db/2016/09/20160912044835_937908_600_900.jpg)\n",
            "#38 파일 다운로드가 완료되었습니다.\n",
            "#39 이미지 다운로드 (https://menu.mt.co.kr/moneyweek/thumb/2017/09/20/06/2017092011308028611_2.jpg)\n",
            "#39 파일 다운로드가 완료되었습니다.\n",
            "#40 이미지 다운로드 (https://i.pinimg.com/originals/1b/7d/bf/1b7dbfbc7d4bd9e9f8a2b3992d28af86.jpg)\n",
            "#40 파일 다운로드가 완료되었습니다.\n",
            "===============================================\n",
            "[Info] Done. Downloaded 40 images.\n",
            "[Train Dataset] image_30.jpg\n",
            "[Train Dataset] image_17.jpg\n",
            "[Train Dataset] image_36.jpg\n",
            "[Train Dataset] image_39.jpg\n",
            "[Train Dataset] image_10.jpg\n",
            "[Train Dataset] image_24.jpg\n",
            "[Train Dataset] image_8.jpg\n",
            "[Train Dataset] image_33.jpg\n",
            "[Train Dataset] image_2.jpg\n",
            "[Train Dataset] image_22.jpg\n",
            "[Train Dataset] image_7.jpg\n",
            "[Train Dataset] image_18.png\n",
            "[Train Dataset] image_20.jpg\n",
            "[Train Dataset] image_21.jpg\n",
            "[Train Dataset] image_23.jpg\n",
            "[Train Dataset] image_12.jpg\n",
            "[Train Dataset] image_37.jpg\n",
            "[Train Dataset] image_13.jpg\n",
            "[Train Dataset] image_4.jpg\n",
            "[Train Dataset] image_32.jpg\n",
            "[Train Dataset] image_9.jpg\n",
            "[Train Dataset] image_35.jpg\n",
            "[Train Dataset] image_11.jpg\n",
            "[Train Dataset] image_26.jpg\n",
            "[Train Dataset] image_29.jpg\n",
            "[Train Dataset] image_16.jpg\n",
            "[Train Dataset] image_19.jpg\n",
            "[Train Dataset] image_1.jpg\n",
            "[Train Dataset] image_34.jpg\n",
            "[Train Dataset] image_25.jpg\n",
            "[Test Dataset] image_14.jpg\n",
            "[Test Dataset] image_6.jpg\n",
            "[Test Dataset] image_38.jpg\n",
            "[Test Dataset] image_31.jpg\n",
            "[Test Dataset] image_3.jpg\n",
            "[Test Dataset] image_15.jpg\n",
            "[Test Dataset] image_40.jpg\n",
            "[Test Dataset] image_5.jpg\n",
            "[Test Dataset] image_27.jpg\n",
            "[Test Dataset] image_28.jpg\n"
          ]
        }
      ],
      "source": [
        "query = '이병헌'\n",
        "downloader.download(query, limit=40, output_dir='/', adult_filter_off=True, force_replace=False, timeout=60)\n",
        "dataset_split(query, 30)"
      ]
    },
    {
      "cell_type": "code",
      "execution_count": null,
      "metadata": {
        "id": "OvPGgoX_lXSE"
      },
      "outputs": [],
      "source": [
        "import torch\n",
        "import torch.nn as nn\n",
        "import torch.optim as optim\n",
        "\n",
        "import torchvision\n",
        "from torchvision import datasets, models, transforms\n",
        "\n",
        "import numpy as np\n",
        "import time\n",
        "\n",
        "device = torch.device(\"cuda:0\" if torch.cuda.is_available() else \"cpu\")\n"
      ]
    },
    {
      "cell_type": "code",
      "execution_count": null,
      "metadata": {
        "colab": {
          "base_uri": "https://localhost:8080/"
        },
        "id": "edQ-F9Nnoq_y",
        "outputId": "8b061ea6-5c53-4ccd-cd64-68595c4d6417"
      },
      "outputs": [
        {
          "name": "stdout",
          "output_type": "stream",
          "text": [
            "학습 데이터셋 크기: 90\n",
            "테스트 데이터셋 크기: 30\n",
            "클래스: ['김종국', '마동석', '이병헌']\n"
          ]
        },
        {
          "name": "stderr",
          "output_type": "stream",
          "text": [
            "/usr/local/lib/python3.7/dist-packages/torch/utils/data/dataloader.py:490: UserWarning: This DataLoader will create 4 worker processes in total. Our suggested max number of worker in current system is 2, which is smaller than what this DataLoader is going to create. Please be aware that excessive worker creation might get DataLoader running slow or even freeze, lower the worker number to avoid potential slowness/freeze if necessary.\n",
            "  cpuset_checked))\n"
          ]
        }
      ],
      "source": [
        "# 데이터셋을 불러올 때 사용할 변형(transformation) 객체 정의\n",
        "transforms_train = transforms.Compose([\n",
        "    transforms.Resize((224, 224)),\n",
        "    transforms.RandomHorizontalFlip(), # 데이터 증진(augmentation)\n",
        "    transforms.ToTensor(),\n",
        "    transforms.Normalize([0.485, 0.456, 0.406], [0.229, 0.224, 0.225]) # 정규화(normalization)\n",
        "])\n",
        "\n",
        "transforms_test = transforms.Compose([\n",
        "    transforms.Resize((224, 224)),\n",
        "    transforms.ToTensor(),\n",
        "    transforms.Normalize([0.485, 0.456, 0.406], [0.229, 0.224, 0.225])\n",
        "])\n",
        "\n",
        "data_dir = './custom_dataset'\n",
        "train_datasets = datasets.ImageFolder(os.path.join(data_dir, 'train'), transforms_train)\n",
        "test_datasets = datasets.ImageFolder(os.path.join(data_dir, 'test'), transforms_test)\n",
        "\n",
        "train_dataloader = torch.utils.data.DataLoader(train_datasets, batch_size=4, shuffle=True, num_workers=4)\n",
        "test_dataloader = torch.utils.data.DataLoader(test_datasets, batch_size=4, shuffle=True, num_workers=4)\n",
        "\n",
        "print('학습 데이터셋 크기:', len(train_datasets))\n",
        "print('테스트 데이터셋 크기:', len(test_datasets))\n",
        "\n",
        "class_names = train_datasets.classes\n",
        "print('클래스:', class_names)"
      ]
    },
    {
      "cell_type": "code",
      "execution_count": null,
      "metadata": {
        "colab": {
          "base_uri": "https://localhost:8080/",
          "height": 894
        },
        "id": "brfWe4vBp_W2",
        "outputId": "04ff04f2-6e97-44e3-cf9e-93a406ca9891"
      },
      "outputs": [
        {
          "name": "stderr",
          "output_type": "stream",
          "text": [
            "/usr/local/lib/python3.7/dist-packages/torch/utils/data/dataloader.py:490: UserWarning: This DataLoader will create 4 worker processes in total. Our suggested max number of worker in current system is 2, which is smaller than what this DataLoader is going to create. Please be aware that excessive worker creation might get DataLoader running slow or even freeze, lower the worker number to avoid potential slowness/freeze if necessary.\n",
            "  cpuset_checked))\n",
            "findfont: Font family ['NanumBarunGothic'] not found. Falling back to DejaVu Sans.\n",
            "/usr/local/lib/python3.7/dist-packages/matplotlib/backends/backend_agg.py:214: RuntimeWarning: Glyph 47560 missing from current font.\n",
            "  font.set_text(s, 0.0, flags=flags)\n",
            "/usr/local/lib/python3.7/dist-packages/matplotlib/backends/backend_agg.py:214: RuntimeWarning: Glyph 46041 missing from current font.\n",
            "  font.set_text(s, 0.0, flags=flags)\n",
            "/usr/local/lib/python3.7/dist-packages/matplotlib/backends/backend_agg.py:214: RuntimeWarning: Glyph 49437 missing from current font.\n",
            "  font.set_text(s, 0.0, flags=flags)\n",
            "/usr/local/lib/python3.7/dist-packages/matplotlib/backends/backend_agg.py:214: RuntimeWarning: Glyph 51060 missing from current font.\n",
            "  font.set_text(s, 0.0, flags=flags)\n",
            "/usr/local/lib/python3.7/dist-packages/matplotlib/backends/backend_agg.py:214: RuntimeWarning: Glyph 48337 missing from current font.\n",
            "  font.set_text(s, 0.0, flags=flags)\n",
            "/usr/local/lib/python3.7/dist-packages/matplotlib/backends/backend_agg.py:214: RuntimeWarning: Glyph 54732 missing from current font.\n",
            "  font.set_text(s, 0.0, flags=flags)\n",
            "/usr/local/lib/python3.7/dist-packages/matplotlib/backends/backend_agg.py:214: RuntimeWarning: Glyph 44608 missing from current font.\n",
            "  font.set_text(s, 0.0, flags=flags)\n",
            "/usr/local/lib/python3.7/dist-packages/matplotlib/backends/backend_agg.py:214: RuntimeWarning: Glyph 51333 missing from current font.\n",
            "  font.set_text(s, 0.0, flags=flags)\n",
            "/usr/local/lib/python3.7/dist-packages/matplotlib/backends/backend_agg.py:214: RuntimeWarning: Glyph 44397 missing from current font.\n",
            "  font.set_text(s, 0.0, flags=flags)\n",
            "findfont: Font family ['NanumBarunGothic'] not found. Falling back to DejaVu Sans.\n",
            "/usr/local/lib/python3.7/dist-packages/matplotlib/backends/backend_agg.py:183: RuntimeWarning: Glyph 47560 missing from current font.\n",
            "  font.set_text(s, 0, flags=flags)\n",
            "/usr/local/lib/python3.7/dist-packages/matplotlib/backends/backend_agg.py:183: RuntimeWarning: Glyph 46041 missing from current font.\n",
            "  font.set_text(s, 0, flags=flags)\n",
            "/usr/local/lib/python3.7/dist-packages/matplotlib/backends/backend_agg.py:183: RuntimeWarning: Glyph 49437 missing from current font.\n",
            "  font.set_text(s, 0, flags=flags)\n",
            "/usr/local/lib/python3.7/dist-packages/matplotlib/backends/backend_agg.py:183: RuntimeWarning: Glyph 51060 missing from current font.\n",
            "  font.set_text(s, 0, flags=flags)\n",
            "/usr/local/lib/python3.7/dist-packages/matplotlib/backends/backend_agg.py:183: RuntimeWarning: Glyph 48337 missing from current font.\n",
            "  font.set_text(s, 0, flags=flags)\n",
            "/usr/local/lib/python3.7/dist-packages/matplotlib/backends/backend_agg.py:183: RuntimeWarning: Glyph 54732 missing from current font.\n",
            "  font.set_text(s, 0, flags=flags)\n",
            "/usr/local/lib/python3.7/dist-packages/matplotlib/backends/backend_agg.py:183: RuntimeWarning: Glyph 44608 missing from current font.\n",
            "  font.set_text(s, 0, flags=flags)\n",
            "/usr/local/lib/python3.7/dist-packages/matplotlib/backends/backend_agg.py:183: RuntimeWarning: Glyph 51333 missing from current font.\n",
            "  font.set_text(s, 0, flags=flags)\n",
            "/usr/local/lib/python3.7/dist-packages/matplotlib/backends/backend_agg.py:183: RuntimeWarning: Glyph 44397 missing from current font.\n",
            "  font.set_text(s, 0, flags=flags)\n"
          ]
        },
        {
          "data": {
            "image/png": "[encoded data removed]",
            "text/plain": [
              "<Figure size 432x288 with 1 Axes>"
            ]
          },
          "metadata": {},
          "output_type": "display_data"
        }
      ],
      "source": [
        "def imshow(input, title):\n",
        "  input = input.numpy().transpose((1, 2, 0))\n",
        "  mean = np.array([0.485, 0.456, 0.406])\n",
        "  std = np.array([0.229, 0.224, 0.225])\n",
        "  input = std * input * mean\n",
        "  input = np.clip(input, 0 , 1)\n",
        "\n",
        "  plt.imshow(input)\n",
        "  plt.title(title)\n",
        "  plt.show()\n",
        "\n",
        "iterator = iter(train_dataloader)\n",
        "\n",
        "inputs, classes = next(iterator)\n",
        "out = torchvision.utils.make_grid(inputs)\n",
        "imshow(out, title=[class_names[x] for x in classes])"
      ]
    },
    {
      "cell_type": "code",
      "execution_count": null,
      "metadata": {
        "colab": {
          "base_uri": "https://localhost:8080/",
          "height": 67,
          "referenced_widgets": [
            "d24477712d7d4f7eae718a9bc070e972",
            "4bc43c49ece1454fa231ceff6240a9b4",
            "a306d1609efc47258c93f76295ee61b0",
            "cf33ce9a865840df9dc9849f9cc3d3f6",
            "09ce40430fb54f699db29e94fb9c49aa",
            "8ddd911e76ed4293a53f9aa6843c1c60",
            "64e11bf91e364d4a842c610ef09d3c88",
            "d5b128002cf8449690c95555f292b53b",
            "1e02eeb564eb40ecb7604d23ebe1f5ec",
            "29f22777c0a6409a9b012a3d5d38bbd9",
            "e207741557ad455184a9050163f10ed5"
          ]
        },
        "id": "XQLztNMArM-d",
        "outputId": "aa1fda13-7a0c-482a-a698-af849946135f"
      },
      "outputs": [
        {
          "name": "stderr",
          "output_type": "stream",
          "text": [
            "Downloading: \"https://download.pytorch.org/models/resnet34-b627a593.pth\" to /root/.cache/torch/hub/checkpoints/resnet34-b627a593.pth\n"
          ]
        },
        {
          "data": {
            "application/vnd.jupyter.widget-view+json": {
              "model_id": "d24477712d7d4f7eae718a9bc070e972",
              "version_major": 2,
              "version_minor": 0
            },
            "text/plain": [
              "  0%|          | 0.00/83.3M [00:00<?, ?B/s]"
            ]
          },
          "metadata": {},
          "output_type": "display_data"
        }
      ],
      "source": [
        "model = models.resnet34(pretrained=True)\n",
        "num_features = model.fc.in_features\n",
        "# 전이 학습(transfer learning): 모델의 출력 뉴런 수를 3개로 교체하여 마지막 레이어 다시 학습\n",
        "model.fc = nn.Linear(num_features, 3)\n",
        "model = model.to(device)\n",
        "\n",
        "criterion = nn.CrossEntropyLoss()\n",
        "optimizer = optim.SGD(model.parameters(), lr=0.001, momentum=0.9)"
      ]
    },
    {
      "cell_type": "code",
      "execution_count": null,
      "metadata": {
        "colab": {
          "background_save": true,
          "base_uri": "https://localhost:8080/"
        },
        "id": "2t8rUSdHsNIM",
        "outputId": "d61d7d81-c5da-401f-bf54-aca442741cce"
      },
      "outputs": [
        {
          "name": "stderr",
          "output_type": "stream",
          "text": [
            "/usr/local/lib/python3.7/dist-packages/torch/utils/data/dataloader.py:490: UserWarning: This DataLoader will create 4 worker processes in total. Our suggested max number of worker in current system is 2, which is smaller than what this DataLoader is going to create. Please be aware that excessive worker creation might get DataLoader running slow or even freeze, lower the worker number to avoid potential slowness/freeze if necessary.\n",
            "  cpuset_checked))\n"
          ]
        },
        {
          "name": "stdout",
          "output_type": "stream",
          "text": [
            "#0 Loss:  1.2312 Acc: 26.6667% Time: 41.4790s\n",
            "#1 Loss:  1.2465 Acc: 34.4444% Time: 85.6120s\n",
            "#2 Loss:  1.2390 Acc: 31.1111% Time: 129.1455s\n",
            "#3 Loss:  1.2369 Acc: 30.0000% Time: 170.8885s\n",
            "#4 Loss:  1.2700 Acc: 27.7778% Time: 212.3903s\n",
            "#5 Loss:  1.2478 Acc: 31.1111% Time: 253.8739s\n",
            "#6 Loss:  1.2644 Acc: 32.2222% Time: 295.8037s\n",
            "#7 Loss:  1.2193 Acc: 28.8889% Time: 339.0726s\n",
            "#8 Loss:  1.2798 Acc: 33.3333% Time: 383.2805s\n",
            "#9 Loss:  1.2601 Acc: 31.1111% Time: 426.4315s\n",
            "#10 Loss:  1.2540 Acc: 32.2222% Time: 470.7741s\n",
            "#11 Loss:  1.2463 Acc: 32.2222% Time: 515.8262s\n",
            "#12 Loss:  1.2716 Acc: 32.2222% Time: 559.1948s\n",
            "#13 Loss:  1.2411 Acc: 30.0000% Time: 602.8921s\n",
            "#14 Loss:  1.2494 Acc: 31.1111% Time: 646.1702s\n",
            "#15 Loss:  1.2470 Acc: 27.7778% Time: 689.2105s\n",
            "#16 Loss:  1.2942 Acc: 28.8889% Time: 731.7009s\n",
            "#17 Loss:  1.2328 Acc: 28.8889% Time: 772.9682s\n",
            "#18 Loss:  1.2621 Acc: 28.8889% Time: 813.9299s\n",
            "#19 Loss:  1.2392 Acc: 28.8889% Time: 855.2913s\n",
            "#20 Loss:  1.2135 Acc: 31.1111% Time: 896.6820s\n",
            "#21 Loss:  1.2606 Acc: 31.1111% Time: 937.8666s\n",
            "#22 Loss:  1.2203 Acc: 30.0000% Time: 978.9214s\n",
            "#23 Loss:  1.2145 Acc: 34.4444% Time: 1020.0718s\n",
            "#24 Loss:  1.2509 Acc: 26.6667% Time: 1062.6779s\n",
            "#25 Loss:  1.2364 Acc: 33.3333% Time: 1104.0480s\n",
            "#26 Loss:  1.2653 Acc: 30.0000% Time: 1145.0158s\n",
            "#27 Loss:  1.2486 Acc: 33.3333% Time: 1186.2400s\n",
            "#28 Loss:  1.2247 Acc: 30.0000% Time: 1227.7301s\n",
            "#29 Loss:  1.2292 Acc: 30.0000% Time: 1268.6627s\n",
            "#30 Loss:  1.2286 Acc: 30.0000% Time: 1311.0102s\n",
            "#31 Loss:  1.2725 Acc: 33.3333% Time: 1352.0777s\n",
            "#32 Loss:  1.2602 Acc: 32.2222% Time: 1393.4735s\n",
            "#33 Loss:  1.2749 Acc: 30.0000% Time: 1436.7693s\n",
            "#34 Loss:  1.2482 Acc: 30.0000% Time: 1478.5378s\n",
            "#35 Loss:  1.2708 Acc: 31.1111% Time: 1520.5117s\n",
            "#36 Loss:  1.2630 Acc: 34.4444% Time: 1562.4681s\n",
            "#37 Loss:  1.2707 Acc: 30.0000% Time: 1603.6549s\n",
            "#38 Loss:  1.2817 Acc: 28.8889% Time: 1646.0295s\n",
            "#39 Loss:  1.2519 Acc: 33.3333% Time: 1687.1272s\n",
            "#40 Loss:  1.2505 Acc: 28.8889% Time: 1728.6827s\n",
            "#41 Loss:  1.2466 Acc: 28.8889% Time: 1770.7963s\n",
            "#42 Loss:  1.2713 Acc: 28.8889% Time: 1814.1120s\n",
            "#43 Loss:  1.2376 Acc: 32.2222% Time: 1857.2484s\n",
            "#44 Loss:  1.2165 Acc: 35.5556% Time: 1901.9511s\n",
            "#45 Loss:  1.2703 Acc: 24.4444% Time: 1947.0211s\n",
            "#46 Loss:  1.2241 Acc: 36.6667% Time: 1991.5259s\n",
            "#47 Loss:  1.2847 Acc: 28.8889% Time: 2034.8029s\n",
            "#48 Loss:  1.2589 Acc: 28.8889% Time: 2079.6422s\n",
            "#49 Loss:  1.2334 Acc: 30.0000% Time: 2123.0534s\n"
          ]
        }
      ],
      "source": [
        "num_epochs = 50\n",
        "model.train()\n",
        "start_time = time.time()\n",
        "\n",
        "for epoch in range(num_epochs):\n",
        "  running_loss = 0\n",
        "  running_corrects = 0\n",
        "\n",
        "  for inputs, labels in train_dataloader:\n",
        "    inputs = inputs.to(device)\n",
        "    labels = labels.to(device)\n",
        "\n",
        "    optimizer.zero_grad()\n",
        "    outputs = model(inputs)\n",
        "    _, preds = torch.max(outputs, 1)\n",
        "    loss = criterion(outputs, labels)\n",
        "\n",
        "    loss.backward()\n",
        "    optimizer\n",
        "    \n",
        "    running_loss += loss.item() * inputs.size(0)\n",
        "    running_corrects += torch.sum(preds == labels.data)\n",
        " \n",
        "  epoch_loss = running_loss / len(train_datasets)\n",
        "  epoch_acc = running_corrects / len(train_datasets) * 100\n",
        "\n",
        "  print('#{} Loss: {: .4f} Acc: {:.4f}% Time: {:.4f}s'.format(epoch, epoch_loss, epoch_acc, time.time() - start_time))"
      ]
    },
    {
      "cell_type": "code",
      "execution_count": null,
      "metadata": {
        "id": "h9EkKAbptv8I"
      },
      "outputs": [],
      "source": [
        ""
      ]
    }
  ],
  "metadata": {
    "colab": {
      "name": "Untitled1.ipynb",
      "provenance": [],
      "authorship_tag": "ABX9TyM2iGftQHOUrtlBcA7ySOvU",
      "include_colab_link": true
    },
    "kernelspec": {
      "display_name": "Python 3",
      "name": "python3"
    },
    "language_info": {
      "name": "python"
    },
    "widgets": {
      "application/vnd.jupyter.widget-state+json": {
        "09ce40430fb54f699db29e94fb9c49aa": {
          "model_module": "@jupyter-widgets/base",
          "model_module_version": "1.2.0",
          "model_name": "LayoutModel",
          "state": {
            "_model_module": "@jupyter-widgets/base",
            "_model_module_version": "1.2.0",
            "_model_name": "LayoutModel",
            "_view_count": null,
            "_view_module": "@jupyter-widgets/base",
            "_view_module_version": "1.2.0",
            "_view_name": "LayoutView",
            "align_content": null,
            "align_items": null,
            "align_self": null,
            "border": null,
            "bottom": null,
            "display": null,
            "flex": null,
            "flex_flow": null,
            "grid_area": null,
            "grid_auto_columns": null,
            "grid_auto_flow": null,
            "grid_auto_rows": null,
            "grid_column": null,
            "grid_gap": null,
            "grid_row": null,
            "grid_template_areas": null,
            "grid_template_columns": null,
            "grid_template_rows": null,
            "height": null,
            "justify_content": null,
            "justify_items": null,
            "left": null,
            "margin": null,
            "max_height": null,
            "max_width": null,
            "min_height": null,
            "min_width": null,
            "object_fit": null,
            "object_position": null,
            "order": null,
            "overflow": null,
            "overflow_x": null,
            "overflow_y": null,
            "padding": null,
            "right": null,
            "top": null,
            "visibility": null,
            "width": null
          }
        },
        "1e02eeb564eb40ecb7604d23ebe1f5ec": {
          "model_module": "@jupyter-widgets/controls",
          "model_module_version": "1.5.0",
          "model_name": "ProgressStyleModel",
          "state": {
            "_model_module": "@jupyter-widgets/controls",
            "_model_module_version": "1.5.0",
            "_model_name": "ProgressStyleModel",
            "_view_count": null,
            "_view_module": "@jupyter-widgets/base",
            "_view_module_version": "1.2.0",
            "_view_name": "StyleView",
            "bar_color": null,
            "description_width": ""
          }
        },
        "29f22777c0a6409a9b012a3d5d38bbd9": {
          "model_module": "@jupyter-widgets/base",
          "model_module_version": "1.2.0",
          "model_name": "LayoutModel",
          "state": {
            "_model_module": "@jupyter-widgets/base",
            "_model_module_version": "1.2.0",
            "_model_name": "LayoutModel",
            "_view_count": null,
            "_view_module": "@jupyter-widgets/base",
            "_view_module_version": "1.2.0",
            "_view_name": "LayoutView",
            "align_content": null,
            "align_items": null,
            "align_self": null,
            "border": null,
            "bottom": null,
            "display": null,
            "flex": null,
            "flex_flow": null,
            "grid_area": null,
            "grid_auto_columns": null,
            "grid_auto_flow": null,
            "grid_auto_rows": null,
            "grid_column": null,
            "grid_gap": null,
            "grid_row": null,
            "grid_template_areas": null,
            "grid_template_columns": null,
            "grid_template_rows": null,
            "height": null,
            "justify_content": null,
            "justify_items": null,
            "left": null,
            "margin": null,
            "max_height": null,
            "max_width": null,
            "min_height": null,
            "min_width": null,
            "object_fit": null,
            "object_position": null,
            "order": null,
            "overflow": null,
            "overflow_x": null,
            "overflow_y": null,
            "padding": null,
            "right": null,
            "top": null,
            "visibility": null,
            "width": null
          }
        },
        "4bc43c49ece1454fa231ceff6240a9b4": {
          "model_module": "@jupyter-widgets/controls",
          "model_module_version": "1.5.0",
          "model_name": "HTMLModel",
          "state": {
            "_dom_classes": [],
            "_model_module": "@jupyter-widgets/controls",
            "_model_module_version": "1.5.0",
            "_model_name": "HTMLModel",
            "_view_count": null,
            "_view_module": "@jupyter-widgets/controls",
            "_view_module_version": "1.5.0",
            "_view_name": "HTMLView",
            "description": "",
            "description_tooltip": null,
            "layout": "IPY_MODEL_8ddd911e76ed4293a53f9aa6843c1c60",
            "placeholder": "​",
            "style": "IPY_MODEL_64e11bf91e364d4a842c610ef09d3c88",
            "value": "100%"
          }
        },
        "64e11bf91e364d4a842c610ef09d3c88": {
          "model_module": "@jupyter-widgets/controls",
          "model_module_version": "1.5.0",
          "model_name": "DescriptionStyleModel",
          "state": {
            "_model_module": "@jupyter-widgets/controls",
            "_model_module_version": "1.5.0",
            "_model_name": "DescriptionStyleModel",
            "_view_count": null,
            "_view_module": "@jupyter-widgets/base",
            "_view_module_version": "1.2.0",
            "_view_name": "StyleView",
            "description_width": ""
          }
        },
        "8ddd911e76ed4293a53f9aa6843c1c60": {
          "model_module": "@jupyter-widgets/base",
          "model_module_version": "1.2.0",
          "model_name": "LayoutModel",
          "state": {
            "_model_module": "@jupyter-widgets/base",
            "_model_module_version": "1.2.0",
            "_model_name": "LayoutModel",
            "_view_count": null,
            "_view_module": "@jupyter-widgets/base",
            "_view_module_version": "1.2.0",
            "_view_name": "LayoutView",
            "align_content": null,
            "align_items": null,
            "align_self": null,
            "border": null,
            "bottom": null,
            "display": null,
            "flex": null,
            "flex_flow": null,
            "grid_area": null,
            "grid_auto_columns": null,
            "grid_auto_flow": null,
            "grid_auto_rows": null,
            "grid_column": null,
            "grid_gap": null,
            "grid_row": null,
            "grid_template_areas": null,
            "grid_template_columns": null,
            "grid_template_rows": null,
            "height": null,
            "justify_content": null,
            "justify_items": null,
            "left": null,
            "margin": null,
            "max_height": null,
            "max_width": null,
            "min_height": null,
            "min_width": null,
            "object_fit": null,
            "object_position": null,
            "order": null,
            "overflow": null,
            "overflow_x": null,
            "overflow_y": null,
            "padding": null,
            "right": null,
            "top": null,
            "visibility": null,
            "width": null
          }
        },
        "a306d1609efc47258c93f76295ee61b0": {
          "model_module": "@jupyter-widgets/controls",
          "model_module_version": "1.5.0",
          "model_name": "FloatProgressModel",
          "state": {
            "_dom_classes": [],
            "_model_module": "@jupyter-widgets/controls",
            "_model_module_version": "1.5.0",
            "_model_name": "FloatProgressModel",
            "_view_count": null,
            "_view_module": "@jupyter-widgets/controls",
            "_view_module_version": "1.5.0",
            "_view_name": "ProgressView",
            "bar_style": "success",
            "description": "",
            "description_tooltip": null,
            "layout": "IPY_MODEL_d5b128002cf8449690c95555f292b53b",
            "max": 87319819,
            "min": 0,
            "orientation": "horizontal",
            "style": "IPY_MODEL_1e02eeb564eb40ecb7604d23ebe1f5ec",
            "value": 87319819
          }
        },
        "cf33ce9a865840df9dc9849f9cc3d3f6": {
          "model_module": "@jupyter-widgets/controls",
          "model_module_version": "1.5.0",
          "model_name": "HTMLModel",
          "state": {
            "_dom_classes": [],
            "_model_module": "@jupyter-widgets/controls",
            "_model_module_version": "1.5.0",
            "_model_name": "HTMLModel",
            "_view_count": null,
            "_view_module": "@jupyter-widgets/controls",
            "_view_module_version": "1.5.0",
            "_view_name": "HTMLView",
            "description": "",
            "description_tooltip": null,
            "layout": "IPY_MODEL_29f22777c0a6409a9b012a3d5d38bbd9",
            "placeholder": "​",
            "style": "IPY_MODEL_e207741557ad455184a9050163f10ed5",
            "value": " 83.3M/83.3M [00:00&lt;00:00, 206MB/s]"
          }
        },
        "d24477712d7d4f7eae718a9bc070e972": {
          "model_module": "@jupyter-widgets/controls",
          "model_module_version": "1.5.0",
          "model_name": "HBoxModel",
          "state": {
            "_dom_classes": [],
            "_model_module": "@jupyter-widgets/controls",
            "_model_module_version": "1.5.0",
            "_model_name": "HBoxModel",
            "_view_count": null,
            "_view_module": "@jupyter-widgets/controls",
            "_view_module_version": "1.5.0",
            "_view_name": "HBoxView",
            "box_style": "",
            "children": [
              "IPY_MODEL_4bc43c49ece1454fa231ceff6240a9b4",
              "IPY_MODEL_a306d1609efc47258c93f76295ee61b0",
              "IPY_MODEL_cf33ce9a865840df9dc9849f9cc3d3f6"
            ],
            "layout": "IPY_MODEL_09ce40430fb54f699db29e94fb9c49aa"
          }
        },
        "d5b128002cf8449690c95555f292b53b": {
          "model_module": "@jupyter-widgets/base",
          "model_module_version": "1.2.0",
          "model_name": "LayoutModel",
          "state": {
            "_model_module": "@jupyter-widgets/base",
            "_model_module_version": "1.2.0",
            "_model_name": "LayoutModel",
            "_view_count": null,
            "_view_module": "@jupyter-widgets/base",
            "_view_module_version": "1.2.0",
            "_view_name": "LayoutView",
            "align_content": null,
            "align_items": null,
            "align_self": null,
            "border": null,
            "bottom": null,
            "display": null,
            "flex": null,
            "flex_flow": null,
            "grid_area": null,
            "grid_auto_columns": null,
            "grid_auto_flow": null,
            "grid_auto_rows": null,
            "grid_column": null,
            "grid_gap": null,
            "grid_row": null,
            "grid_template_areas": null,
            "grid_template_columns": null,
            "grid_template_rows": null,
            "height": null,
            "justify_content": null,
            "justify_items": null,
            "left": null,
            "margin": null,
            "max_height": null,
            "max_width": null,
            "min_height": null,
            "min_width": null,
            "object_fit": null,
            "object_position": null,
            "order": null,
            "overflow": null,
            "overflow_x": null,
            "overflow_y": null,
            "padding": null,
            "right": null,
            "top": null,
            "visibility": null,
            "width": null
          }
        },
        "e207741557ad455184a9050163f10ed5": {
          "model_module": "@jupyter-widgets/controls",
          "model_module_version": "1.5.0",
          "model_name": "DescriptionStyleModel",
          "state": {
            "_model_module": "@jupyter-widgets/controls",
            "_model_module_version": "1.5.0",
            "_model_name": "DescriptionStyleModel",
            "_view_count": null,
            "_view_module": "@jupyter-widgets/base",
            "_view_module_version": "1.2.0",
            "_view_name": "StyleView",
            "description_width": ""
          }
        }
      }
    }
  },
  "nbformat": 4,
  "nbformat_minor": 0
}