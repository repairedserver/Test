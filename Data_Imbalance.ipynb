{
  "nbformat": 4,
  "nbformat_minor": 0,
  "metadata": {
    "colab": {
      "name": "Data Imbalance",
      "provenance": [],
      "authorship_tag": "ABX9TyNjX4NClzoH6y7O+wX2issn",
      "include_colab_link": true
    },
    "kernelspec": {
      "name": "python3",
      "display_name": "Python 3"
    },
    "language_info": {
      "name": "python"
    },
    "accelerator": "GPU",
    "gpuClass": "standard"
  },
  "cells": [
    {
      "cell_type": "markdown",
      "metadata": {
        "id": "view-in-github",
        "colab_type": "text"
      },
      "source": [
        "<a href=\"https://colab.research.google.com/github/repairedserver/Test/blob/master/Data_Imbalance.ipynb\" target=\"_parent\"><img src=\"https://colab.research.google.com/assets/colab-badge.svg\" alt=\"Open In Colab\"/></a>"
      ]
    },
    {
      "cell_type": "code",
      "source": [
        "import numpy as np\n",
        "import torch\n",
        "import torchvision\n",
        "from torch.utils.data import DataLoader\n",
        "from sklearn.metrics import confusion_matrix\n",
        "import seaborn as sns\n",
        "import matplotlib.pyplot as plt"
      ],
      "metadata": {
        "id": "jof2bPNm6d1x"
      },
      "execution_count": 5,
      "outputs": []
    },
    {
      "cell_type": "code",
      "source": [
        "from google.colab import drive\n",
        "drive.mount('/content/gdrive')"
      ],
      "metadata": {
        "colab": {
          "base_uri": "https://localhost:8080/"
        },
        "id": "3cnnksqL6xsZ",
        "outputId": "9256aaec-4767-4130-fa34-f5fda28e26ec"
      },
      "execution_count": 2,
      "outputs": [
        {
          "output_type": "stream",
          "name": "stdout",
          "text": [
            "Mounted at /content/gdrive\n"
          ]
        }
      ]
    },
    {
      "cell_type": "code",
      "source": [
        "cd/content/gdrive/My Drive/deeplearningbro/deeplearningbro/pytorch"
      ],
      "metadata": {
        "colab": {
          "base_uri": "https://localhost:8080/"
        },
        "id": "0p0lAjQ868pS",
        "outputId": "599ad72d-6ffc-4bd2-a189-a5d849125a15"
      },
      "execution_count": 3,
      "outputs": [
        {
          "output_type": "stream",
          "name": "stdout",
          "text": [
            "/content/gdrive/My Drive/deeplearningbro/deeplearningbro/pytorch\n"
          ]
        }
      ]
    },
    {
      "cell_type": "code",
      "source": [
        "def make_weight_for_balanced_classes(img, nclasses):\n",
        "  labels = []\n",
        "  for i in range(len(img)):\n",
        "    labels.append(img[i][1])\n",
        "\n",
        "  label_array = np.array(labels)\n",
        "  total = len(labels)\n",
        "\n",
        "  count_list = []\n",
        "  for cls in range(nclasses):\n",
        "    count = len(np.where(label_array == cls)[0])\n",
        "    count_list.append(total/count)\n",
        "  \n",
        "  weight = []\n",
        "  for label in label_array:\n",
        "    weight.append(count_list[label])\n",
        "\n",
        "  return weight"
      ],
      "metadata": {
        "id": "E5o2gKv12h2r"
      },
      "execution_count": 4,
      "outputs": []
    },
    {
      "cell_type": "code",
      "source": [
        "actual = [1,1,1,1,1,1,0,0,0,0,0,2,2,2,2,2]\n",
        "prediction = [1,1,1,0,1,1,0,0,0,1,0,2,2,2,1,1]\n",
        "cmat = confusion_matrix(actual, prediction)\n",
        "plt.figure(figsize = (8,6))\n",
        "sns.heatmap(cmat, annot=True, fmt=\"d\", cmap=\"Blues\", linewidths=.5)\n",
        "b, t = plt.ylim()\n",
        "b += 0.5\n",
        "t -= 0.5\n",
        "plt.ylim(b, t)\n",
        "plt.savefig('confusion_matrix.png')\n",
        "plt.show()"
      ],
      "metadata": {
        "colab": {
          "base_uri": "https://localhost:8080/",
          "height": 378
        },
        "id": "hXn_CD1y3Shq",
        "outputId": "a2027a41-4d19-47d2-eac6-e45d12f499cc"
      },
      "execution_count": 9,
      "outputs": [
        {
          "output_type": "display_data",
          "data": {
            "text/plain": [
              "<Figure size 576x432 with 2 Axes>"
            ],
            "image/png": "[encoded data removed]"
          },
          "metadata": {
            "needs_background": "light"
          }
        }
      ]
    },
    {
      "cell_type": "code",
      "source": [
        ""
      ],
      "metadata": {
        "id": "cProV2I-5iH6"
      },
      "execution_count": null,
      "outputs": []
    }
  ]
}